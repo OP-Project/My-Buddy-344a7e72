{
 "cells": [
  {
   "cell_type": "markdown",
   "id": "b9f12005",
   "metadata": {},
   "source": [
    "# Testing gemini client with openai\n",
    "\n",
    "Reference: https://medium.com/@paulo_marcos/how-to-use-google-gemini-with-the-openai-client-library-for-ai-apps-d0af7df50340"
   ]
  },
  {
   "cell_type": "code",
   "execution_count": 2,
   "id": "3caf9d87",
   "metadata": {},
   "outputs": [
    {
     "data": {
      "text/plain": [
       "True"
      ]
     },
     "execution_count": 2,
     "metadata": {},
     "output_type": "execute_result"
    }
   ],
   "source": [
    "from dotenv import load_dotenv\n",
    "load_dotenv()"
   ]
  },
  {
   "cell_type": "code",
   "execution_count": 3,
   "id": "6927b681",
   "metadata": {},
   "outputs": [],
   "source": [
    "import os\n",
    "gemini_api_key = os.getenv(\"GEMINI_API_KEY\")"
   ]
  },
  {
   "cell_type": "code",
   "execution_count": 7,
   "id": "20a60962",
   "metadata": {},
   "outputs": [],
   "source": [
    "from openai import OpenAI, OpenAIError\n",
    "client_gemini = OpenAI(\n",
    "            api_key=gemini_api_key,  # Google Gemini API key\n",
    "            base_url=\"https://generativelanguage.googleapis.com/v1beta/\"  # Gemini base URL\n",
    ")\n",
    "model = \"gemini-1.5-flash\"  # Specify the model you want to use"
   ]
  },
  {
   "cell_type": "markdown",
   "id": "6f1a4090",
   "metadata": {},
   "source": [
    "## For ASK"
   ]
  },
  {
   "cell_type": "code",
   "execution_count": 90,
   "id": "29429da5",
   "metadata": {},
   "outputs": [],
   "source": [
    "prompt: str = \"What can you help me with?\"\n",
    "system_message: str = \"You are a helpful assistant.\"\n",
    "assistant_message: str = \"Sure, I can help with that.\"\n",
    "messages = [\n",
    "            {\"role\": \"system\", \"content\": system_message},\n",
    "            {\"role\": \"user\", \"content\": prompt},\n",
    "            # {\"role\": \"assistant\", \"content\": assistant_message}\n",
    "        ]\n",
    "\n",
    "messages = [\n",
    "            {'role': 'system', 'metadata': None, 'content': system_message, 'options': None},\n",
    "            {'role': 'user', 'metadata': None, 'content': prompt, 'options': None}, \n",
    "    ]"
   ]
  },
  {
   "cell_type": "code",
   "execution_count": 91,
   "id": "1dbafc09",
   "metadata": {},
   "outputs": [],
   "source": [
    "\n",
    "response = client_gemini.chat.completions.with_raw_response.create(\n",
    "    model=model,  # Google Gemini model\n",
    "    messages=messages,\n",
    ")"
   ]
  },
  {
   "cell_type": "code",
   "execution_count": 92,
   "id": "ff35ada2",
   "metadata": {},
   "outputs": [
    {
     "data": {
      "text/plain": [
       "<APIResponse [200 OK] type=<class 'openai.types.chat.chat_completion.ChatCompletion'>>"
      ]
     },
     "execution_count": 92,
     "metadata": {},
     "output_type": "execute_result"
    }
   ],
   "source": [
    "response"
   ]
  },
  {
   "cell_type": "code",
   "execution_count": 93,
   "id": "29baab8f",
   "metadata": {},
   "outputs": [
    {
     "data": {
      "text/plain": [
       "200"
      ]
     },
     "execution_count": 93,
     "metadata": {},
     "output_type": "execute_result"
    }
   ],
   "source": [
    "response.status_code"
   ]
  },
  {
   "cell_type": "code",
   "execution_count": 94,
   "id": "bb924cd6",
   "metadata": {},
   "outputs": [
    {
     "data": {
      "text/plain": [
       "b'{\"choices\":[{\"finish_reason\":\"stop\",\"index\":0,\"message\":{\"content\":\"I can help you with a wide range of tasks, including but not limited to:\\\\n\\\\n* **Information retrieval:** I can answer your questions on a vast number of topics, drawing on a massive dataset of text and code.  This includes factual questions, definitions, explanations, summaries, and more.\\\\n\\\\n* **Text generation:** I can write different creative text formats (poems, code, scripts, musical pieces, email, letters, etc.), I can translate languages, and I can answer your questions in an informative way, even if they are open ended, challenging, or strange.\\\\n\\\\n* **Coding assistance:** I can help you write code in many programming languages, debug your code, and explain code snippets.\\\\n\\\\n* **Creative tasks:** I can help you brainstorm ideas, write stories, generate poems, and even compose music (in textual form).\\\\n\\\\n* **Summarization:** I can summarize lengthy texts, articles, or documents for you.\\\\n\\\\n* **Translation:** I can translate text between multiple languages.\\\\n\\\\n* **Problem-solving:** I can help you think through problems and find solutions, whether they\\'re technical, creative, or personal (within ethical and safety guidelines).\\\\n\\\\n\\\\nTo get the best help, please be as specific and clear as possible in your requests.  The more detail you provide, the better I can understand your needs and provide a helpful response.  Let me know what you\\'d like to do!\\\\n\",\"role\":\"assistant\"}}],\"created\":1751797614,\"id\":\"a09qaLy8O6OymecPvNqE2A0\",\"model\":\"gemini-1.5-flash\",\"object\":\"chat.completion\",\"usage\":{\"completion_tokens\":291,\"prompt_tokens\":13,\"total_tokens\":304}}'"
      ]
     },
     "execution_count": 94,
     "metadata": {},
     "output_type": "execute_result"
    }
   ],
   "source": [
    "response.content"
   ]
  },
  {
   "cell_type": "code",
   "execution_count": 95,
   "id": "bbefe5da",
   "metadata": {},
   "outputs": [
    {
     "data": {
      "text/plain": [
       "bytes"
      ]
     },
     "execution_count": 95,
     "metadata": {},
     "output_type": "execute_result"
    }
   ],
   "source": [
    "type(response.content)"
   ]
  },
  {
   "cell_type": "code",
   "execution_count": 96,
   "id": "2bf318d8",
   "metadata": {},
   "outputs": [],
   "source": [
    "import json\n",
    "data = json.loads(response.content)"
   ]
  },
  {
   "cell_type": "code",
   "execution_count": 97,
   "id": "a017d8ba",
   "metadata": {},
   "outputs": [
    {
     "data": {
      "text/plain": [
       "{'choices': [{'finish_reason': 'stop',\n",
       "   'index': 0,\n",
       "   'message': {'content': \"I can help you with a wide range of tasks, including but not limited to:\\n\\n* **Information retrieval:** I can answer your questions on a vast number of topics, drawing on a massive dataset of text and code.  This includes factual questions, definitions, explanations, summaries, and more.\\n\\n* **Text generation:** I can write different creative text formats (poems, code, scripts, musical pieces, email, letters, etc.), I can translate languages, and I can answer your questions in an informative way, even if they are open ended, challenging, or strange.\\n\\n* **Coding assistance:** I can help you write code in many programming languages, debug your code, and explain code snippets.\\n\\n* **Creative tasks:** I can help you brainstorm ideas, write stories, generate poems, and even compose music (in textual form).\\n\\n* **Summarization:** I can summarize lengthy texts, articles, or documents for you.\\n\\n* **Translation:** I can translate text between multiple languages.\\n\\n* **Problem-solving:** I can help you think through problems and find solutions, whether they're technical, creative, or personal (within ethical and safety guidelines).\\n\\n\\nTo get the best help, please be as specific and clear as possible in your requests.  The more detail you provide, the better I can understand your needs and provide a helpful response.  Let me know what you'd like to do!\\n\",\n",
       "    'role': 'assistant'}}],\n",
       " 'created': 1751797614,\n",
       " 'id': 'a09qaLy8O6OymecPvNqE2A0',\n",
       " 'model': 'gemini-1.5-flash',\n",
       " 'object': 'chat.completion',\n",
       " 'usage': {'completion_tokens': 291, 'prompt_tokens': 13, 'total_tokens': 304}}"
      ]
     },
     "execution_count": 97,
     "metadata": {},
     "output_type": "execute_result"
    }
   ],
   "source": [
    "data"
   ]
  },
  {
   "cell_type": "code",
   "execution_count": 98,
   "id": "faf0635d",
   "metadata": {},
   "outputs": [
    {
     "data": {
      "text/plain": [
       "304"
      ]
     },
     "execution_count": 98,
     "metadata": {},
     "output_type": "execute_result"
    }
   ],
   "source": [
    "data['usage']['prompt_tokens']\n",
    "data['usage']['completion_tokens']\n",
    "data['usage']['total_tokens']"
   ]
  },
  {
   "cell_type": "code",
   "execution_count": 99,
   "id": "5df5f076",
   "metadata": {},
   "outputs": [
    {
     "data": {
      "text/plain": [
       "\"I can help you with a wide range of tasks, including but not limited to:\\n\\n* **Information retrieval:** I can answer your questions on a vast number of topics, drawing on a massive dataset of text and code.  This includes factual questions, definitions, explanations, summaries, and more.\\n\\n* **Text generation:** I can write different creative text formats (poems, code, scripts, musical pieces, email, letters, etc.), I can translate languages, and I can answer your questions in an informative way, even if they are open ended, challenging, or strange.\\n\\n* **Coding assistance:** I can help you write code in many programming languages, debug your code, and explain code snippets.\\n\\n* **Creative tasks:** I can help you brainstorm ideas, write stories, generate poems, and even compose music (in textual form).\\n\\n* **Summarization:** I can summarize lengthy texts, articles, or documents for you.\\n\\n* **Translation:** I can translate text between multiple languages.\\n\\n* **Problem-solving:** I can help you think through problems and find solutions, whether they're technical, creative, or personal (within ethical and safety guidelines).\\n\\n\\nTo get the best help, please be as specific and clear as possible in your requests.  The more detail you provide, the better I can understand your needs and provide a helpful response.  Let me know what you'd like to do!\\n\""
      ]
     },
     "execution_count": 99,
     "metadata": {},
     "output_type": "execute_result"
    }
   ],
   "source": [
    "data['choices'][0]['message']['content']"
   ]
  },
  {
   "cell_type": "code",
   "execution_count": 100,
   "id": "559215ca",
   "metadata": {},
   "outputs": [
    {
     "data": {
      "text/plain": [
       "{'content': \"I can help you with a wide range of tasks, including but not limited to:\\n\\n* **Information retrieval:** I can answer your questions on a vast number of topics, drawing on a massive dataset of text and code.  This includes factual questions, definitions, explanations, summaries, and more.\\n\\n* **Text generation:** I can write different creative text formats (poems, code, scripts, musical pieces, email, letters, etc.), I can translate languages, and I can answer your questions in an informative way, even if they are open ended, challenging, or strange.\\n\\n* **Coding assistance:** I can help you write code in many programming languages, debug your code, and explain code snippets.\\n\\n* **Creative tasks:** I can help you brainstorm ideas, write stories, generate poems, and even compose music (in textual form).\\n\\n* **Summarization:** I can summarize lengthy texts, articles, or documents for you.\\n\\n* **Translation:** I can translate text between multiple languages.\\n\\n* **Problem-solving:** I can help you think through problems and find solutions, whether they're technical, creative, or personal (within ethical and safety guidelines).\\n\\n\\nTo get the best help, please be as specific and clear as possible in your requests.  The more detail you provide, the better I can understand your needs and provide a helpful response.  Let me know what you'd like to do!\\n\",\n",
       " 'role': 'assistant'}"
      ]
     },
     "execution_count": 100,
     "metadata": {},
     "output_type": "execute_result"
    }
   ],
   "source": [
    "data['choices'][0]['message']"
   ]
  },
  {
   "cell_type": "code",
   "execution_count": 88,
   "id": "26de39b1",
   "metadata": {},
   "outputs": [
    {
     "data": {
      "text/plain": [
       "'I can help you with a wide range of tasks, including but not limited to:\\n\\n* **Writing:**  I can help you write stories, poems, emails, articles, summaries, code, musical pieces, scripts, etc.  I can also help you improve your existing writing.\\n\\n* **Information retrieval and summarization:** I can access and process information from the real world through Google Search and keep my response consistent with search results.  I can answer your questions on a wide variety of topics and summarize complex information into concise explanations.\\n\\n* **Translation:** I can translate text between multiple languages.\\n\\n* **Coding:** I can generate code in various programming languages and help you debug existing code.\\n\\n* **Problem-solving:** I can help you brainstorm solutions to problems and offer different perspectives.\\n\\n* **Creative tasks:** I can help you generate creative text formats like poems, code, scripts, musical pieces, email, letters, etc.\\n\\n* **Learning:** I can help you learn new things by providing information and explanations on a wide range of topics.\\n\\n\\nTo best help you, please tell me what you need assistance with.  Be as specific as possible in your request.  The more detail you provide, the better I can assist you.'"
      ]
     },
     "execution_count": 88,
     "metadata": {},
     "output_type": "execute_result"
    }
   ],
   "source": [
    "\n",
    "answer = data['choices'][0]['message']['content'].strip()\n",
    "answer"
   ]
  },
  {
   "cell_type": "markdown",
   "id": "84fe5f47",
   "metadata": {},
   "source": [
    "## For Ask with history"
   ]
  },
  {
   "cell_type": "code",
   "execution_count": 67,
   "id": "3a1d05db",
   "metadata": {},
   "outputs": [],
   "source": [
    "system_message: str = \"You are a helpful assistant.\"\n",
    "messages= [\n",
    "        # {\"role\": \"system\", \"content\": system_message},\n",
    "        {\"role\": \"user\", \"content\": \"What is the highest mountain in the world?\"},\n",
    "        # {\"role\": \"assistant\", \"content\": \"The highest mountain in the world is Mount Everest.\"}\n",
    "    ]\n",
    "\n",
    "prompt: str = \"How tall is it?\"\n"
   ]
  },
  {
   "cell_type": "code",
   "execution_count": 68,
   "id": "b9105ea4",
   "metadata": {},
   "outputs": [],
   "source": [
    "prompt = prompt.strip() or \"Ask me to ask anything.\"\n",
    "content = [{\"type\": \"text\", \"text\": prompt}]\n",
    "messages += [\n",
    "    # {\"role\": \"system\", \"content\": system_message},\n",
    "    {\"role\": \"user\", \"content\": prompt}\n",
    "]"
   ]
  },
  {
   "cell_type": "code",
   "execution_count": 69,
   "id": "334919c1",
   "metadata": {},
   "outputs": [
    {
     "data": {
      "text/plain": [
       "[{'role': 'user', 'content': 'What is the highest mountain in the world?'},\n",
       " {'role': 'user', 'content': 'How tall is it?'}]"
      ]
     },
     "execution_count": 69,
     "metadata": {},
     "output_type": "execute_result"
    }
   ],
   "source": [
    "messages"
   ]
  },
  {
   "cell_type": "code",
   "execution_count": 70,
   "id": "90153076",
   "metadata": {},
   "outputs": [],
   "source": [
    "response = client_gemini.chat.completions.with_raw_response.create(\n",
    "    model=model,  # Google Gemini model\n",
    "    messages=messages,\n",
    ")"
   ]
  },
  {
   "cell_type": "code",
   "execution_count": 71,
   "id": "b0a969e9",
   "metadata": {},
   "outputs": [
    {
     "data": {
      "text/plain": [
       "<APIResponse [200 OK] type=<class 'openai.types.chat.chat_completion.ChatCompletion'>>"
      ]
     },
     "execution_count": 71,
     "metadata": {},
     "output_type": "execute_result"
    }
   ],
   "source": [
    "response"
   ]
  },
  {
   "cell_type": "code",
   "execution_count": 72,
   "id": "b0e2740a",
   "metadata": {},
   "outputs": [
    {
     "data": {
      "text/plain": [
       "200"
      ]
     },
     "execution_count": 72,
     "metadata": {},
     "output_type": "execute_result"
    }
   ],
   "source": [
    "response.status_code"
   ]
  },
  {
   "cell_type": "code",
   "execution_count": 73,
   "id": "ff307829",
   "metadata": {},
   "outputs": [],
   "source": [
    "import json\n",
    "data = json.loads(response.content)"
   ]
  },
  {
   "cell_type": "code",
   "execution_count": 74,
   "id": "ee741850",
   "metadata": {},
   "outputs": [
    {
     "data": {
      "text/plain": [
       "{'choices': [{'finish_reason': 'stop',\n",
       "   'index': 0,\n",
       "   'message': {'content': 'Mount Everest is approximately 8,848.86 meters (29,031.7 feet) tall.  However, this measurement is constantly being refined, and slight variations exist depending on the measurement method and the inclusion of the snow cap.\\n',\n",
       "    'role': 'assistant'}}],\n",
       " 'created': 1751791848,\n",
       " 'id': '6DhqaJ8IkJWxtA-P8eapDg',\n",
       " 'model': 'gemini-1.5-flash',\n",
       " 'object': 'chat.completion',\n",
       " 'usage': {'completion_tokens': 55, 'prompt_tokens': 14, 'total_tokens': 69}}"
      ]
     },
     "execution_count": 74,
     "metadata": {},
     "output_type": "execute_result"
    }
   ],
   "source": [
    "data"
   ]
  },
  {
   "cell_type": "code",
   "execution_count": 75,
   "id": "499474a5",
   "metadata": {},
   "outputs": [
    {
     "data": {
      "text/plain": [
       "'Mount Everest is approximately 8,848.86 meters (29,031.7 feet) tall.  However, this measurement is constantly being refined, and slight variations exist depending on the measurement method and the inclusion of the snow cap.'"
      ]
     },
     "execution_count": 75,
     "metadata": {},
     "output_type": "execute_result"
    }
   ],
   "source": [
    "data['choices'][0]['message']['content'].strip()"
   ]
  },
  {
   "cell_type": "code",
   "execution_count": 76,
   "id": "8430816e",
   "metadata": {},
   "outputs": [
    {
     "data": {
      "text/plain": [
       "{'content': 'Mount Everest is approximately 8,848.86 meters (29,031.7 feet) tall.  However, this measurement is constantly being refined, and slight variations exist depending on the measurement method and the inclusion of the snow cap.\\n',\n",
       " 'role': 'assistant'}"
      ]
     },
     "execution_count": 76,
     "metadata": {},
     "output_type": "execute_result"
    }
   ],
   "source": [
    "data['choices'][0]['message']"
   ]
  },
  {
   "cell_type": "code",
   "execution_count": 77,
   "id": "7dd0b664",
   "metadata": {},
   "outputs": [
    {
     "data": {
      "text/plain": [
       "[{'role': 'user', 'content': 'What is the highest mountain in the world?'},\n",
       " {'role': 'user', 'content': 'How tall is it?'}]"
      ]
     },
     "execution_count": 77,
     "metadata": {},
     "output_type": "execute_result"
    }
   ],
   "source": [
    "messages"
   ]
  },
  {
   "cell_type": "code",
   "execution_count": null,
   "id": "6b5005b1",
   "metadata": {},
   "outputs": [],
   "source": []
  }
 ],
 "metadata": {
  "kernelspec": {
   "display_name": ".venv",
   "language": "python",
   "name": "python3"
  },
  "language_info": {
   "codemirror_mode": {
    "name": "ipython",
    "version": 3
   },
   "file_extension": ".py",
   "mimetype": "text/x-python",
   "name": "python",
   "nbconvert_exporter": "python",
   "pygments_lexer": "ipython3",
   "version": "3.12.7"
  }
 },
 "nbformat": 4,
 "nbformat_minor": 5
}
