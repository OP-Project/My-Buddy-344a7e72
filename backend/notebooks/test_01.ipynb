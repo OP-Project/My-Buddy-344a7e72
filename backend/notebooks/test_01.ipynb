{
 "cells": [
  {
   "cell_type": "markdown",
   "id": "52e24fe7",
   "metadata": {},
   "source": [
    "# Testing CrewAI"
   ]
  },
  {
   "cell_type": "code",
   "execution_count": 1,
   "id": "12cf69eb",
   "metadata": {},
   "outputs": [],
   "source": [
    "import os\n",
    "from dotenv import load_dotenv\n",
    "\n",
    "load_dotenv()\n",
    "os.environ[\"GROQ_API_KEY\"] = os.getenv(\"GROQ_API_KEY\")"
   ]
  },
  {
   "cell_type": "code",
   "execution_count": 2,
   "id": "1d272bb1",
   "metadata": {},
   "outputs": [
    {
     "name": "stdout",
     "output_type": "stream",
     "text": [
      "✅ Groq response: Hello! I'm here to help you with any questions or tasks you may have, so feel free to ask me anything!\n"
     ]
    }
   ],
   "source": [
    "import requests\n",
    "import os\n",
    "\n",
    "# Set your API key\n",
    "GROQ_API_KEY = os.getenv(\"GROQ_API_KEY\")\n",
    "\n",
    "# Groq API endpoint\n",
    "url = \"https://api.groq.com/openai/v1/chat/completions\"\n",
    "\n",
    "# Headers\n",
    "headers = {\n",
    "    \"Authorization\": f\"Bearer {GROQ_API_KEY}\",\n",
    "    \"Content-Type\": \"application/json\"\n",
    "}\n",
    "\n",
    "# Payload\n",
    "data = {\n",
    "    \"model\": \"llama3-8b-8192\",\n",
    "    \"messages\": [\n",
    "        {\"role\": \"system\", \"content\": \"You are a helpful assistant.\"},\n",
    "        {\"role\": \"user\", \"content\": \"Say hello in one sentence.\"}\n",
    "    ],\n",
    "    \"temperature\": 0.7\n",
    "}\n",
    "\n",
    "# Make the request\n",
    "response = requests.post(url, headers=headers, json=data)\n",
    "\n",
    "# Output result\n",
    "if response.status_code == 200:\n",
    "    result = response.json()\n",
    "    logger.info(\"✅ Groq response:\", result[\"choices\"][0][\"message\"][\"content\"])\n",
    "else:\n",
    "    logger.info(f\"❌ Error {response.status_code}:\", response.text)\n"
   ]
  },
  {
   "cell_type": "code",
   "execution_count": 5,
   "id": "d74dc5fc",
   "metadata": {},
   "outputs": [
    {
     "name": "stdout",
     "output_type": "stream",
     "text": [
      "\u001b[1m\u001b[95m# Agent:\u001b[00m \u001b[1m\u001b[92mFriendly Assistant\u001b[00m\n",
      "\u001b[95m## Task:\u001b[00m \u001b[92mSay hello to the user named Sam Smith and ask how you can help.\u001b[00m\n",
      "\n",
      "\n",
      "\u001b[1m\u001b[95m# Agent:\u001b[00m \u001b[1m\u001b[92mFriendly Assistant\u001b[00m\n",
      "\u001b[95m## Final Answer:\u001b[00m \u001b[92m\n",
      "Thought: I now can give a great answer\u001b[00m\n",
      "\n",
      "\n",
      "Thought: I now can give a great answer\n"
     ]
    }
   ],
   "source": [
    "from crewai import Agent, Task, Crew, Process\n",
    "\n",
    "# Define the agent\n",
    "agent = Agent(\n",
    "    role=\"Friendly Assistant\",\n",
    "    goal=\"Greet the user and offer assistance.\",\n",
    "    backstory=\"An AI created to greet users warmly.\",\n",
    "    llm=\"groq/llama3-8b-8192\",  # Requires GROQ_API_KEY in env\n",
    "    allow_delegation=False,\n",
    "    verbose=True\n",
    ")\n",
    "\n",
    "# Define the task\n",
    "task = Task(\n",
    "    description=\"Say hello to the user named Sam Smith and ask how you can help.\",\n",
    "    agent=agent,\n",
    "    expected_output=\"A friendly greeting to Sam Smith.\"\n",
    ")\n",
    "\n",
    "# Set up the crew\n",
    "crew = Crew(\n",
    "    agents=[agent],\n",
    "    tasks=[task],\n",
    "    process=Process.sequential,\n",
    "    # verbose=True\n",
    ")\n",
    "\n",
    "# Kickoff (no input vars needed here)\n",
    "result = crew.kickoff()\n",
    "logger.info(result)\n"
   ]
  },
  {
   "cell_type": "code",
   "execution_count": null,
   "id": "d5008892",
   "metadata": {},
   "outputs": [],
   "source": []
  }
 ],
 "metadata": {
  "kernelspec": {
   "display_name": ".venv",
   "language": "python",
   "name": "python3"
  },
  "language_info": {
   "codemirror_mode": {
    "name": "ipython",
    "version": 3
   },
   "file_extension": ".py",
   "mimetype": "text/x-python",
   "name": "python",
   "nbconvert_exporter": "python",
   "pygments_lexer": "ipython3",
   "version": "3.12.7"
  }
 },
 "nbformat": 4,
 "nbformat_minor": 5
}
