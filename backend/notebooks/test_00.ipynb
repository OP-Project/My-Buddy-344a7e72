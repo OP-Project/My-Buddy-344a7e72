{
 "cells": [
  {
   "cell_type": "markdown",
   "id": "40a4c08a",
   "metadata": {},
   "source": [
    "# Weather Bot"
   ]
  },
  {
   "cell_type": "code",
   "execution_count": null,
   "id": "ae947b11",
   "metadata": {},
   "outputs": [],
   "source": []
  },
  {
   "cell_type": "markdown",
   "id": "3e58d9ea",
   "metadata": {},
   "source": [
    "## Testing gemini API key"
   ]
  },
  {
   "cell_type": "code",
   "execution_count": 1,
   "id": "f97d26a0",
   "metadata": {},
   "outputs": [
    {
     "data": {
      "text/plain": [
       "True"
      ]
     },
     "execution_count": 1,
     "metadata": {},
     "output_type": "execute_result"
    }
   ],
   "source": [
    "from dotenv import load_dotenv\n",
    "load_dotenv()"
   ]
  },
  {
   "cell_type": "code",
   "execution_count": 2,
   "id": "b811bd18",
   "metadata": {},
   "outputs": [
    {
     "name": "stderr",
     "output_type": "stream",
     "text": [
      "Both GOOGLE_API_KEY and GEMINI_API_KEY are set. Using GOOGLE_API_KEY.\n"
     ]
    }
   ],
   "source": [
    "import os \n",
    "from google import genai\n",
    "\n",
    "client = genai.Client(api_key=os.getenv(\"GEMINI_API_KEY\"))"
   ]
  },
  {
   "cell_type": "code",
   "execution_count": 3,
   "id": "b89c87bb",
   "metadata": {},
   "outputs": [
    {
     "name": "stdout",
     "output_type": "stream",
     "text": [
      "The sky is blue because of a phenomenon called **Rayleigh scattering**. Here's a breakdown:\n",
      "\n",
      "*   **Sunlight is a mixture of all colors:** Sunlight appears white to our eyes, but it's actually composed of all the colors of the rainbow (red, orange, yellow, green, blue, indigo, violet).\n",
      "\n",
      "*   **Sunlight enters the Earth's atmosphere:** When sunlight enters the Earth's atmosphere, it collides with tiny air molecules (mostly nitrogen and oxygen).\n",
      "\n",
      "*   **Scattering of light:** This collision causes the light to scatter in different directions.\n",
      "\n",
      "*   **Rayleigh scattering favors shorter wavelengths:** Rayleigh scattering is more effective at scattering shorter wavelengths of light. Blue and violet light have shorter wavelengths than other colors like red and orange.\n",
      "\n",
      "*   **Why not violet?** While violet light is scattered even more than blue light, there are a couple of reasons why the sky appears blue:\n",
      "\n",
      "    *   **Sunlight emits less violet light:** The sun emits less violet light compared to blue light.\n",
      "    *   **Our eyes are less sensitive to violet:** Our eyes are more sensitive to blue light than violet light.\n",
      "    *   **The upper atmosphere absorbs some violet:** Some violet light is absorbed by the upper atmosphere.\n",
      "\n",
      "*   **The result:** Because blue light is scattered more effectively and is more abundant in sunlight and easier for our eyes to see, we perceive the sky as blue.\n",
      "\n",
      "**Think of it like this:** Imagine throwing a bunch of marbles (sunlight) at a bunch of tiny pins (air molecules). The smaller marbles (blue light) are more likely to bounce off in different directions, while the larger marbles (red light) are more likely to go straight through.\n",
      "\n",
      "**What about sunsets and sunrises?**\n",
      "\n",
      "At sunrise and sunset, the sunlight has to travel through more of the Earth's atmosphere to reach our eyes. This means that most of the blue light has already been scattered away by the time the light reaches us. The longer wavelengths, like red and orange, are able to penetrate through the atmosphere more easily, resulting in the beautiful colors we see during sunsets and sunrises.\n"
     ]
    }
   ],
   "source": [
    "response = client.models.generate_content(\n",
    "    model='gemini-2.0-flash-001', contents='Why is the sky blue?'\n",
    ")\n",
    "logger.info(response.text)"
   ]
  },
  {
   "cell_type": "markdown",
   "id": "94e11978",
   "metadata": {},
   "source": [
    "# Testing Crew AI"
   ]
  },
  {
   "cell_type": "markdown",
   "id": "33f7931c",
   "metadata": {},
   "source": [
    "## 0. Imports"
   ]
  },
  {
   "cell_type": "code",
   "execution_count": 4,
   "id": "4a3cf606",
   "metadata": {},
   "outputs": [],
   "source": [
    "import os\n",
    "\n",
    "os.environ[\"SERPER_API_KEY\"] = os.getenv(\"SERPER_API_KEY\")\n",
    "os.environ[\"GEMINI_API_KEY\"] = os.getenv(\"GEMINI_API_KEY\")\n",
    "os.environ[\"GROQ_API_KEY\"] = os.getenv(\"GROQ_API_KEY\")\n",
    "os.environ[\"OPENAI_API_KEY\"] = os.getenv(\"OPENAI_API_KEY\")"
   ]
  },
  {
   "cell_type": "markdown",
   "id": "ec064d3a",
   "metadata": {},
   "source": [
    "## 1. Tools Initialization"
   ]
  },
  {
   "cell_type": "markdown",
   "id": "55b45092",
   "metadata": {},
   "source": [
    "### Initialize built-in tools"
   ]
  },
  {
   "cell_type": "code",
   "execution_count": 5,
   "id": "c6577705",
   "metadata": {},
   "outputs": [],
   "source": [
    "from crewai_tools import SerperDevTool\n",
    "\n",
    "serper_tool = SerperDevTool()"
   ]
  },
  {
   "cell_type": "markdown",
   "id": "21c1feae",
   "metadata": {},
   "source": [
    "### Initialize custom tools"
   ]
  },
  {
   "cell_type": "code",
   "execution_count": 6,
   "id": "a0a19209",
   "metadata": {},
   "outputs": [],
   "source": [
    "# Initialize custom tools\n",
    "from crewai.tools import tool\n",
    "import requests\n",
    "\n",
    "@tool(\"my_simple_tool\")\n",
    "def my_simple_tool(location: str) -> str:\n",
    "    \"\"\"Get current weather for a city\"\"\"\n",
    "\n",
    "    api_key = os.getenv(\"WEATHER_API_KEY\")\n",
    "    base_url = \"http://api.weatherapi.com/v1/current.json\"\n",
    "    \n",
    "    try:\n",
    "        # Make the API request\n",
    "        response = requests.get(\n",
    "            f\"{base_url}?key={api_key}&q={location}\"\n",
    "        )\n",
    "        data = response.json()\n",
    "\n",
    "        # Extract and format weather details\n",
    "        weather_info = f\"\"\"\n",
    "        Weather in {data['location']['name']}:\n",
    "        Country: {data['location']['country']}\n",
    "        Region: {data['location']['region']}\n",
    "        Latitude: {data['location']['lat']}, Longitude: {data['location']['lon']}\n",
    "        Local-Time: {data['location']['localtime']}\n",
    "\n",
    "        Condition: {data['current']['condition']['text']}\n",
    "        Temperature: {data['current']['temp_c']}°C / {data['current']['temp_f']}°F\n",
    "        Feels Like: {data['current']['feelslike_c']}°C / {data['current']['feelslike_f']}°F\n",
    "        Humidity: {data['current']['humidity']}%\n",
    "        Cloud Cover: {data['current']['cloud']}%\n",
    "        Precipitation: {data['current']['precip_mm']} mm\n",
    "        Wind Speed: {data['current']['wind_kph']} km/h ({data['current']['wind_mph']} mph)\n",
    "        Wind Direction: {data['current']['wind_dir']} ({data['current']['wind_degree']}°)\n",
    "        Gust Speed: {data['current']['gust_kph']} km/h ({data['current']['gust_mph']} mph)\n",
    "\n",
    "        Visibility: {data['current']['vis_km']} km\n",
    "        UV Index: {data['current']['uv']}\n",
    "        Pressure: {data['current']['pressure_mb']} mb / {data['current']['pressure_in']} in\n",
    "\n",
    "        Weather Updated At: {data['current']['last_updated']}\n",
    "        \"\"\"\n",
    "        return weather_info\n",
    "    except Exception as e:\n",
    "        return f\"Error fetching weather data: {str(e)}\"\n",
    "\n"
   ]
  },
  {
   "cell_type": "markdown",
   "id": "d31c8b52",
   "metadata": {},
   "source": [
    "## 2. Create Agents"
   ]
  },
  {
   "cell_type": "code",
   "execution_count": 7,
   "id": "18a4273f",
   "metadata": {},
   "outputs": [],
   "source": [
    "from crewai import Agent\n",
    "\n",
    "# Weather Agent\n",
    "weather_agent = Agent(\n",
    "    name=\"WeatherBot\",\n",
    "    role=\"Weather Reporter\",\n",
    "    goal=\"Provide weather details of the {location} using WeatherAPI.\",\n",
    "    backstory=\"An AI assistant specializing in providing weather updates and forecasts.\",\n",
    "    verbose=True,\n",
    "    allow_delegation=False,\n",
    "    llm=\"gemini/gemini-1.5-flash\",\n",
    "    tools=[my_simple_tool]  # Attach WeatherAPI tool\n",
    ")\n",
    "\n",
    "# Search Agent\n",
    "search_agent = Agent(\n",
    "    name=\"SearchBot\",\n",
    "    role=\"Human Habitant Researcher\",\n",
    "    goal=\"Search for information for Today's weather conditions using Serper API and recommed the correct living style. Please Use all the details provided by WeatherBot.\",\n",
    "    backstory=\"An Human Habitant Researcher to perform online searches and gather information and suggest good life style.\",\n",
    "    verbose=True,\n",
    "    allow_delegation=False,\n",
    "    llm=\"gemini/gemini-1.5-flash\",\n",
    "    tools=[serper_tool]  # Attach Serper API tool\n",
    ")\n",
    "\n",
    "# Writer Agent\n",
    "writer_agent = Agent(\n",
    "    name=\"WriterBot\",\n",
    "    role=\"Content Writer\",\n",
    "    goal=\"Write a comprehensive weather report (Today' s) based on data collected by other agents. And life style for human according to the weather.\",\n",
    "    backstory=\"An AI assistant skilled in summarizing and formatting information.\",\n",
    "    verbose=True,\n",
    "    allow_delegation=False,\n",
    "    llm=\"gemini/gemini-1.5-flash\",\n",
    "    tools=[]  # Writer does not require tools\n",
    ")"
   ]
  },
  {
   "cell_type": "markdown",
   "id": "87dd45ef",
   "metadata": {},
   "source": [
    "## 3.Define Tasks"
   ]
  },
  {
   "cell_type": "code",
   "execution_count": 8,
   "id": "dd6067bc",
   "metadata": {},
   "outputs": [],
   "source": [
    "from crewai import Task\n",
    "\n",
    "# Weather Report Task\n",
    "weather_task = Task(\n",
    "    description=\"Fetch and provide a detailed weather report for a specific location.\",\n",
    "    agent=weather_agent,\n",
    "    expected_output=\"\"\"A detailed weather report including temperature, humidity, \n",
    "    wind speed, and weather conditions.\"\"\"\n",
    ")\n",
    "\n",
    "# Search Task\n",
    "search_task = Task(\n",
    "    description=\"Search for information about the human habits suitable for Today's weather conditions in the location.\",\n",
    "    agent=search_agent,\n",
    "    expected_output=\"Search results about the human habits suitable for Today's weather trends and patterns in the location. Mention the Today's Date\"\n",
    ")\n",
    "\n",
    "# Writing Task\n",
    "writing_task = Task(\n",
    "    description=\"\"\"Summarize the information gathered by the Weather and Search agents \n",
    "    into a well-structured report, including insights and recommendations. But give more focus to Today's weather\n",
    "    report and talks around it only.\"\"\",\n",
    "    agent=writer_agent,\n",
    "    expected_output=\"\"\"A structured weather report summarizing the key findings, \n",
    "    including detailed weather conditions and relevant trends. Don't forget to mention today's Date.\"\"\"\n",
    ")\n"
   ]
  },
  {
   "cell_type": "markdown",
   "id": "1975ae94",
   "metadata": {},
   "source": [
    "## 4. Create Crew and Execute"
   ]
  },
  {
   "cell_type": "code",
   "execution_count": 9,
   "id": "b14ceb3f",
   "metadata": {},
   "outputs": [],
   "source": [
    "from crewai import Crew, Process\n",
    "\n",
    "# Create Crew with Agents and Tasks\n",
    "crew = Crew(\n",
    "    agents=[weather_agent, search_agent, writer_agent],\n",
    "    tasks=[weather_task, search_task, writing_task],\n",
    "    # verbose=True, NOOO Never here\n",
    "    process=Process.sequential\n",
    ")\n"
   ]
  },
  {
   "cell_type": "code",
   "execution_count": 11,
   "id": "cd52a592",
   "metadata": {},
   "outputs": [
    {
     "name": "stdout",
     "output_type": "stream",
     "text": [
      "\u001b[1m\u001b[95m# Agent:\u001b[00m \u001b[1m\u001b[92mWeather Reporter\u001b[00m\n",
      "\u001b[95m## Task:\u001b[00m \u001b[92mFetch and provide a detailed weather report for a specific location.\u001b[00m\n",
      "\n",
      "\n",
      "\u001b[1m\u001b[95m# Agent:\u001b[00m \u001b[1m\u001b[92mWeather Reporter\u001b[00m\n",
      "\u001b[95m## Thought:\u001b[00m \u001b[92mtool_code\n",
      "Thought: I need to use the my_simple_tool to get the current weather for Mumbai.\u001b[00m\n",
      "\u001b[95m## Using tool:\u001b[00m \u001b[92mmy_simple_tool\u001b[00m\n",
      "\u001b[95m## Tool Input:\u001b[00m \u001b[92m\n",
      "\"{\\\"location\\\": \\\"Mumbai\\\"}\"\u001b[00m\n",
      "\u001b[95m## Tool Output:\u001b[00m \u001b[92m\n",
      "\n",
      "        Weather in Mumbai:\n",
      "        Country: India\n",
      "        Region: Maharashtra\n",
      "        Latitude: 18.975, Longitude: 72.826\n",
      "        Local-Time: 2025-07-20 00:11\n",
      "\n",
      "        Condition: Mist\n",
      "        Temperature: 28.2°C / 82.8°F\n",
      "        Feels Like: 33.0°C / 91.4°F\n",
      "        Humidity: 89%\n",
      "        Cloud Cover: 50%\n",
      "        Precipitation: 0.14 mm\n",
      "        Wind Speed: 19.1 km/h (11.9 mph)\n",
      "        Wind Direction: SW (216°)\n",
      "        Gust Speed: 27.6 km/h (17.2 mph)\n",
      "\n",
      "        Visibility: 3.0 km\n",
      "        UV Index: 0.0\n",
      "        Pressure: 1003.0 mb / 29.62 in\n",
      "\n",
      "        Weather Updated At: 2025-07-20 00:00\n",
      "        \u001b[00m\n",
      "\n",
      "\n",
      "\u001b[1m\u001b[95m# Agent:\u001b[00m \u001b[1m\u001b[92mWeather Reporter\u001b[00m\n",
      "\u001b[95m## Final Answer:\u001b[00m \u001b[92m\n",
      "Weather in Mumbai:\n",
      "Country: India\n",
      "Region: Maharashtra\n",
      "Latitude: 18.975, Longitude: 72.826\n",
      "Local-Time: 2025-07-20 00:11\n",
      "\n",
      "Condition: Mist\n",
      "Temperature: 28.2°C / 82.8°F\n",
      "Feels Like: 33.0°C / 91.4°F\n",
      "Humidity: 89%\n",
      "Cloud Cover: 50%\n",
      "Precipitation: 0.14 mm\n",
      "Wind Speed: 19.1 km/h (11.9 mph)\n",
      "Wind Direction: SW (216°)\n",
      "Gust Speed: 27.6 km/h (17.2 mph)\n",
      "\n",
      "Visibility: 3.0 km\n",
      "UV Index: 0.0\n",
      "Pressure: 1003.0 mb / 29.62 in\n",
      "\n",
      "Weather Updated At: 2025-07-20 00:00\u001b[00m\n",
      "\n",
      "\n",
      "\u001b[1m\u001b[95m# Agent:\u001b[00m \u001b[1m\u001b[92mHuman Habitant Researcher\u001b[00m\n",
      "\u001b[95m## Task:\u001b[00m \u001b[92mSearch for information about the human habits suitable for Today's weather conditions in the location.\u001b[00m\n",
      "\n",
      "\n",
      "\u001b[1m\u001b[95m# Agent:\u001b[00m \u001b[1m\u001b[92mHuman Habitant Researcher\u001b[00m\n",
      "\u001b[95m## Thought:\u001b[00m \u001b[92mtool_code\n",
      "Thought: I need to find information about suitable human habits for today's weather in Mumbai using the provided weather details.  I'll use the Serper API to search for this information.\u001b[00m\n",
      "\u001b[95m## Using tool:\u001b[00m \u001b[92mSearch the internet with Serper\u001b[00m\n",
      "\u001b[95m## Tool Input:\u001b[00m \u001b[92m\n",
      "\"{\\\"search_query\\\": \\\"human habits suitable for humid, misty weather with high temperatures and strong winds in Mumbai, India\\\"}\"\u001b[00m\n",
      "\u001b[95m## Tool Output:\u001b[00m \u001b[92m\n",
      "{'searchParameters': {'q': 'human habits suitable for humid, misty weather with high temperatures and strong winds in Mumbai, India', 'type': 'search', 'num': 10, 'engine': 'google'}, 'organic': [{'title': 'Mumbai weather: Rain, humidity, and tips for residents - Times of India', 'link': 'https://timesofindia.indiatimes.com/city/mumbai/mumbai-monsoon-update-heavy-rain-expected-as-humidity-soars-to-75/articleshow/121840643.cms', 'snippet': 'Missing: misty strong', 'position': 1}, {'title': \"How to cope up with Mumbai's weather in May? How can I prepare ...\", 'link': 'https://www.quora.com/How-can-I-cope-up-with-Mumbais-weather-in-May-How-can-I-prepare-myself-to-face-the-heat-humidity-and-sweating-for-a-month-and-make-the-most-of-my-trip', 'snippet': 'Drink water. Drink Lassi. Drink Aam panna. Panna helps to prevent the excessive loss of sodium chloride and iron due to excessive sweating.', 'position': 2}, {'title': 'Heat-proofing India - Science', 'link': 'https://www.science.org/content/article/ferociously-hot-weather-could-make-some-cities-unlivable-low-tech-solutions-can-help', 'snippet': 'Missing: habits suitable misty strong', 'position': 3}, {'title': 'How do people without AC deal with this heat? Mumbai humidity is ...', 'link': 'https://www.reddit.com/r/mumbai/comments/1cv6jvt/how_do_people_without_ac_deal_with_this_heat/', 'snippet': 'Missing: human strong', 'position': 4}, {'title': 'How do people in Mumbai like the weather? - Quora', 'link': 'https://www.quora.com/How-do-people-in-Mumbai-like-the-weather', 'snippet': \"People who are born and bought in Mumbai like me, for them Mumbai's weather is pretty normal. Rather we have become habitual to it.\", 'position': 5}, {'title': '[PDF] FAQ on Heat Wave - India Meteorological Department', 'link': 'https://internal.imd.gov.in/section/nhac/dynamic/FAQ_heat_wave.pdf', 'snippet': 'As high relative humidity leads to slower evaporation rate of sweat thereby reduces the efficiency of colling mechanism of the human body. Q. What is the impact ...', 'position': 6}, {'title': 'Rainy and humid day with mild temperatures expected | Mumbai News', 'link': 'https://timesofindia.indiatimes.com/city/mumbai/mumbai-weather-alert-heavy-rain-and-high-humidity-expected/articleshow/122058253.cms', 'snippet': 'Missing: suitable misty', 'position': 7}, {'title': \"How Humidity Is Breaking Your Body's Thermostat\", 'link': 'https://www.indiaspend.com/earthcheckindia/how-humidity-is-breaking-your-bodys-thermostat-951666', 'snippet': 'The human body uses sweat for thermoregulation, but with high humidity, the sweat cannot evaporate, increasing heat stress.', 'position': 8}, {'title': 'Climate of India - Wikipedia', 'link': 'https://en.wikipedia.org/wiki/Climate_of_India', 'snippet': 'Missing: habits misty', 'position': 9}, {'title': '[PDF] fun with weather anon - Arvind Gupta Toys', 'link': 'https://www.arvindguptatoys.com/arvindgupta/pop-5-weather.pdf', 'snippet': 'Missing: habits suitable misty', 'position': 10}], 'credits': 1}\u001b[00m\n",
      "\n",
      "\n",
      "\u001b[1m\u001b[95m# Agent:\u001b[00m \u001b[1m\u001b[92mHuman Habitant Researcher\u001b[00m\n",
      "\u001b[95m## Final Answer:\u001b[00m \u001b[92m\n",
      "Today's Date: 2025-07-20\n",
      "\n",
      "Based on the weather conditions in Mumbai today (2025-07-20):  humid, misty, 28.2°C (82.8°F) with a feel of 33.0°C (91.4°F), 89% humidity, 19.1 km/h (11.9 mph) winds gusting to 27.6 km/h (17.2 mph), and reduced visibility (3.0 km), the following lifestyle recommendations are suggested:\n",
      "\n",
      "* **Hydration:** Drink plenty of water and electrolyte-rich fluids throughout the day to combat dehydration from the heat and humidity.  Avoid excessive caffeine and alcohol.\n",
      "\n",
      "* **Cooling:** Wear light-colored, loose-fitting clothing made of breathable fabrics like cotton or linen.  Take cool showers or baths to lower your body temperature. Use fans if available.  Minimize strenuous activity during the hottest parts of the day.\n",
      "\n",
      "* **Wind Safety:** Be aware of strong winds.  Secure any loose objects that could be blown around. Exercise caution if you are outdoors, and avoid activities that might put you at risk in high winds.\n",
      "\n",
      "* **Visibility:** Exercise caution when driving or walking, as visibility is reduced.\n",
      "\n",
      "\n",
      "While specific habits from search results mention things like drinking Lassi or Aam Panna (traditional Indian drinks) for hydration and coping with heat,  these are culturally specific and not universally applicable. The core recommendations above address the major concerns of heat, humidity, and strong winds regardless of specific cultural context.  These general recommendations prioritize staying safe and comfortable in Mumbai's current weather conditions.\u001b[00m\n",
      "\n",
      "\n",
      "\u001b[1m\u001b[95m# Agent:\u001b[00m \u001b[1m\u001b[92mContent Writer\u001b[00m\n",
      "\u001b[95m## Task:\u001b[00m \u001b[92mSummarize the information gathered by the Weather and Search agents \n",
      "    into a well-structured report, including insights and recommendations. But give more focus to Today's weather\n",
      "    report and talks around it only.\u001b[00m\n",
      "\n",
      "\n",
      "\u001b[1m\u001b[95m# Agent:\u001b[00m \u001b[1m\u001b[92mContent Writer\u001b[00m\n",
      "\u001b[95m## Final Answer:\u001b[00m \u001b[92m\n",
      "**Mumbai Weather Report - July 20, 2025**\n",
      "\n",
      "**Date:** 2025-07-20\n",
      "\n",
      "**Location:** Mumbai, Maharashtra, India (18.975°N, 72.826°E)\n",
      "\n",
      "**Current Conditions (as of 00:00 IST):**\n",
      "\n",
      "* **Temperature:** 28.2°C (82.8°F)\n",
      "* **Feels Like:** 33.0°C (91.4°F) –  The high humidity makes the air feel significantly warmer than the actual temperature.\n",
      "* **Humidity:** 89% - Very high humidity levels contribute to the oppressive feeling.\n",
      "* **Wind:** 19.1 km/h (11.9 mph) from the Southwest (216°), gusting to 27.6 km/h (17.2 mph).  Strong winds are present.\n",
      "* **Visibility:** 3.0 km - Reduced visibility due to mist. Exercise caution while driving or walking.\n",
      "* **Cloud Cover:** 50% - Partly cloudy conditions.\n",
      "* **Precipitation:** 0.14 mm - Light precipitation has recently occurred.\n",
      "* **Atmospheric Pressure:** 1003.0 mb (29.62 in)\n",
      "* **UV Index:** 0.0 -  UV radiation is minimal at this time.\n",
      "\n",
      "\n",
      "**Overall Conditions:**\n",
      "\n",
      "Mumbai is currently experiencing warm, humid, and misty conditions.  Strong winds are adding to the discomfort.  The combination of high temperature, humidity, and wind necessitates caution and appropriate lifestyle adjustments.  Reduced visibility is a further factor to consider.\n",
      "\n",
      "\n",
      "**Lifestyle Recommendations:**\n",
      "\n",
      "Given the prevailing weather conditions, the following recommendations are crucial for your comfort and safety:\n",
      "\n",
      "* **Hydration:**  The high humidity and temperature increase the risk of dehydration. Drink plenty of water and electrolyte-rich fluids throughout the day.  Avoid sugary drinks, excessive caffeine, and alcohol. Consider hydrating drinks such as coconut water or homemade electrolyte solutions.\n",
      "\n",
      "* **Heat Safety:**  The \"feels like\" temperature is significantly higher than the actual temperature. Minimize strenuous outdoor activities during the hottest parts of the day (typically mid-day).  Seek shade whenever possible.\n",
      "\n",
      "* **Clothing:** Wear light-colored, loose-fitting clothing made from breathable fabrics like cotton or linen to stay cool and comfortable.\n",
      "\n",
      "* **Wind Precautions:**  The strong winds present a risk. Secure any loose objects that could be blown away.  Exercise caution when walking or driving.  Avoid activities that could expose you to heightened wind-related risks.\n",
      "\n",
      "* **Visibility:** The reduced visibility due to mist requires extra care while driving or walking. Slow down, increase your following distance, and use caution.\n",
      "\n",
      "\n",
      "**Summary:**\n",
      "\n",
      "Today's weather in Mumbai presents a combination of high heat, humidity, strong winds, and reduced visibility. Prioritizing hydration, heat safety, and wind awareness are essential to ensure comfort and prevent any potential health or safety issues.\u001b[00m\n",
      "\n",
      "\n"
     ]
    }
   ],
   "source": [
    "# Input: City/Location from User\n",
    "# location = input(\"Enter the location for the weather report: \")\n",
    "location = 'mumbai'\n",
    "\n",
    "result = crew.kickoff(\n",
    "    inputs={\"location\": location},\n",
    "    # output_format=\"text\"\n",
    ")"
   ]
  },
  {
   "cell_type": "code",
   "execution_count": null,
   "id": "cd46973f",
   "metadata": {},
   "outputs": [],
   "source": []
  }
 ],
 "metadata": {
  "kernelspec": {
   "display_name": ".venv",
   "language": "python",
   "name": "python3"
  },
  "language_info": {
   "codemirror_mode": {
    "name": "ipython",
    "version": 3
   },
   "file_extension": ".py",
   "mimetype": "text/x-python",
   "name": "python",
   "nbconvert_exporter": "python",
   "pygments_lexer": "ipython3",
   "version": "3.12.7"
  }
 },
 "nbformat": 4,
 "nbformat_minor": 5
}
