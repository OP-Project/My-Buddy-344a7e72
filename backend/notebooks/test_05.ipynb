{
 "cells": [
  {
   "cell_type": "code",
   "execution_count": 1,
   "id": "632e49b1",
   "metadata": {},
   "outputs": [
    {
     "name": "stdout",
     "output_type": "stream",
     "text": [
      "User IP: 45.115.105.78, Location Data: {'status': 'success', 'country': 'India', 'countryCode': 'IN', 'region': 'UP', 'regionName': 'Uttar Pradesh', 'city': 'Noida', 'zip': '110091', 'lat': 28.5759, 'lon': 77.3345, 'timezone': 'Asia/Kolkata', 'isp': 'Ultranet services private limited', 'org': 'Ultranet Services Private Limited', 'as': 'AS134026 Ultranet services private limited', 'query': '45.115.105.78'}\n"
     ]
    }
   ],
   "source": [
    "\n",
    "\n",
    "import requests\n",
    "\n",
    "ip = requests.get(\"https://api.ipify.org\").text\n",
    "location_data = requests.get(f\"http://ip-api.com/json/{ip}\").json()\n",
    "    \n",
    "print(f\"User IP: {ip}, Location Data: {location_data}\")"
   ]
  },
  {
   "cell_type": "code",
   "execution_count": 2,
   "id": "07ba3f49",
   "metadata": {},
   "outputs": [
    {
     "name": "stdout",
     "output_type": "stream",
     "text": [
      "status: success\n",
      "country: India\n",
      "countryCode: IN\n",
      "region: UP\n",
      "regionName: Uttar Pradesh\n",
      "city: Noida\n",
      "zip: 110091\n",
      "lat: 28.5759\n",
      "lon: 77.3345\n",
      "timezone: Asia/Kolkata\n",
      "isp: Ultranet services private limited\n",
      "org: Ultranet Services Private Limited\n",
      "as: AS134026 Ultranet services private limited\n",
      "query: 45.115.105.78\n"
     ]
    }
   ],
   "source": [
    "for key, value in location_data.items():\n",
    "    print(f\"{key}: {value}\")"
   ]
  },
  {
   "cell_type": "code",
   "execution_count": 3,
   "id": "b7f7251f",
   "metadata": {},
   "outputs": [
    {
     "data": {
      "text/plain": [
       "'Noida'"
      ]
     },
     "execution_count": 3,
     "metadata": {},
     "output_type": "execute_result"
    }
   ],
   "source": [
    "location_data['city']"
   ]
  },
  {
   "cell_type": "code",
   "execution_count": 8,
   "id": "ea56d454",
   "metadata": {},
   "outputs": [
    {
     "data": {
      "text/plain": [
       "{'location': {'name': 'Noida',\n",
       "  'region': 'Uttar Pradesh',\n",
       "  'country': 'India',\n",
       "  'lat': 28.57,\n",
       "  'lon': 77.32,\n",
       "  'tz_id': 'Asia/Kolkata',\n",
       "  'localtime_epoch': 1755925481,\n",
       "  'localtime': '2025-08-23 10:34'},\n",
       " 'current': {'last_updated_epoch': 1755925200,\n",
       "  'last_updated': '2025-08-23 10:30',\n",
       "  'temp_c': 31.1,\n",
       "  'temp_f': 88.0,\n",
       "  'is_day': 1,\n",
       "  'condition': {'text': 'Mist',\n",
       "   'icon': '//cdn.weatherapi.com/weather/64x64/day/143.png',\n",
       "   'code': 1030},\n",
       "  'wind_mph': 10.1,\n",
       "  'wind_kph': 16.2,\n",
       "  'wind_degree': 98,\n",
       "  'wind_dir': 'E',\n",
       "  'pressure_mb': 1002.0,\n",
       "  'pressure_in': 29.59,\n",
       "  'precip_mm': 0.39,\n",
       "  'precip_in': 0.02,\n",
       "  'humidity': 71,\n",
       "  'cloud': 50,\n",
       "  'feelslike_c': 36.0,\n",
       "  'feelslike_f': 96.8,\n",
       "  'windchill_c': 31.7,\n",
       "  'windchill_f': 89.1,\n",
       "  'heatindex_c': 37.5,\n",
       "  'heatindex_f': 99.5,\n",
       "  'dewpoint_c': 23.9,\n",
       "  'dewpoint_f': 75.0,\n",
       "  'vis_km': 4.0,\n",
       "  'vis_miles': 2.0,\n",
       "  'uv': 7.7,\n",
       "  'gust_mph': 13.4,\n",
       "  'gust_kph': 21.6}}"
      ]
     },
     "execution_count": 8,
     "metadata": {},
     "output_type": "execute_result"
    }
   ],
   "source": [
    "import requests\n",
    "import os\n",
    "\n",
    "api_key = os.getenv(\"WEATHER_API_KEY\")\n",
    "base_url = \"http://api.weatherapi.com/v1/current.json\"\n",
    "location = 'Dādri'\n",
    "ip = '45.115.105.78'\n",
    "response = requests.get(f\"{base_url}?key={api_key}&q={'auto:ip'}\")\n",
    "response.raise_for_status()\n",
    "data = response.json()\n",
    "data"
   ]
  },
  {
   "cell_type": "code",
   "execution_count": null,
   "id": "32fb2af4",
   "metadata": {},
   "outputs": [],
   "source": []
  }
 ],
 "metadata": {
  "kernelspec": {
   "display_name": ".venv",
   "language": "python",
   "name": "python3"
  },
  "language_info": {
   "codemirror_mode": {
    "name": "ipython",
    "version": 3
   },
   "file_extension": ".py",
   "mimetype": "text/x-python",
   "name": "python",
   "nbconvert_exporter": "python",
   "pygments_lexer": "ipython3",
   "version": "3.11.13"
  }
 },
 "nbformat": 4,
 "nbformat_minor": 5
}
